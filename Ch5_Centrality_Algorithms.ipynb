{
  "nbformat": 4,
  "nbformat_minor": 0,
  "metadata": {
    "colab": {
      "name": "Ch5. Centrality Algorithms",
      "provenance": [],
      "collapsed_sections": []
    },
    "kernelspec": {
      "name": "python3",
      "display_name": "Python 3"
    },
    "language_info": {
      "name": "python"
    }
  },
  "cells": [
    {
      "cell_type": "markdown",
      "metadata": {
        "id": "k2viK2eQX79W"
      },
      "source": [
        "# Quick setup for pySpark and GraphFrame"
      ]
    },
    {
      "cell_type": "code",
      "metadata": {
        "id": "-SfmdR56RC7n"
      },
      "source": [
        "!apt-get install openjdk-8-jdk-headless -qq > /dev/null\n",
        "!wget -q https://archive.apache.org/dist/spark/spark-3.0.3/spark-3.0.3-bin-hadoop2.7.tgz"
      ],
      "execution_count": null,
      "outputs": []
    },
    {
      "cell_type": "code",
      "metadata": {
        "id": "OgYvuRB2R4Mj"
      },
      "source": [
        "!tar xf /content/spark-3.0.3-bin-hadoop2.7.tgz"
      ],
      "execution_count": null,
      "outputs": []
    },
    {
      "cell_type": "code",
      "metadata": {
        "id": "W1V6mqVCZBC-"
      },
      "source": [
        "!wget -q https://repos.spark-packages.org/graphframes/graphframes/0.8.2-spark3.0-s_2.12/graphframes-0.8.2-spark3.0-s_2.12.jar"
      ],
      "execution_count": null,
      "outputs": []
    },
    {
      "cell_type": "code",
      "metadata": {
        "id": "NU_07R5dYoxH"
      },
      "source": [
        "## install graphframe library on Colab\n",
        "!mv /content/graphframes-0.8.2-spark3.0-s_2.12.jar /content/spark-3.0.3-bin-hadoop2.7/jars/graphframes-0.8.2-spark3.0-s_2.12.jar"
      ],
      "execution_count": null,
      "outputs": []
    },
    {
      "cell_type": "code",
      "metadata": {
        "colab": {
          "base_uri": "https://localhost:8080/"
        },
        "id": "8EhA3b4gRXfV",
        "outputId": "b358e04a-c55a-4e0d-9656-a8ab6bdada13"
      },
      "source": [
        "!pip -q install findspark pyspark graphframes"
      ],
      "execution_count": null,
      "outputs": [
        {
          "output_type": "stream",
          "name": "stdout",
          "text": [
            "\u001b[K     |████████████████████████████████| 281.3 MB 37 kB/s \n",
            "\u001b[K     |████████████████████████████████| 198 kB 55.1 MB/s \n",
            "\u001b[K     |████████████████████████████████| 154 kB 51.9 MB/s \n",
            "\u001b[?25h  Building wheel for pyspark (setup.py) ... \u001b[?25l\u001b[?25hdone\n"
          ]
        }
      ]
    },
    {
      "cell_type": "code",
      "metadata": {
        "id": "CEQUVw4fRKPo"
      },
      "source": [
        "import os\n",
        "os.environ[\"JAVA_HOME\"] = \"/usr/lib/jvm/java-8-openjdk-amd64\"\n",
        "os.environ[\"SPARK_HOME\"] = \"/content/spark-3.0.3-bin-hadoop2.7\""
      ],
      "execution_count": null,
      "outputs": []
    },
    {
      "cell_type": "code",
      "metadata": {
        "id": "sn6CGLzVRPG0"
      },
      "source": [
        "import findspark\n",
        "findspark.init()"
      ],
      "execution_count": null,
      "outputs": []
    },
    {
      "cell_type": "code",
      "metadata": {
        "id": "cFA3VB0MRRqX"
      },
      "source": [
        "from pyspark.sql import SparkSession\n",
        "\n",
        "spark = SparkSession.builder\\\n",
        "        .master(\"local\")\\\n",
        "        .appName(\"Colab\")\\\n",
        "        .config('spark.ui.port', '4050')\\\n",
        "        .getOrCreate()"
      ],
      "execution_count": null,
      "outputs": []
    },
    {
      "cell_type": "code",
      "metadata": {
        "colab": {
          "base_uri": "https://localhost:8080/",
          "height": 217
        },
        "id": "tkFMnXdKRT-E",
        "outputId": "7ec665f4-b2de-4989-d44b-39a68233ad61"
      },
      "source": [
        "# confirm the spark installation\n",
        "spark"
      ],
      "execution_count": null,
      "outputs": [
        {
          "output_type": "execute_result",
          "data": {
            "text/html": [
              "\n",
              "            <div>\n",
              "                <p><b>SparkSession - in-memory</b></p>\n",
              "                \n",
              "        <div>\n",
              "            <p><b>SparkContext</b></p>\n",
              "\n",
              "            <p><a href=\"http://d3151253d23e:4050\">Spark UI</a></p>\n",
              "\n",
              "            <dl>\n",
              "              <dt>Version</dt>\n",
              "                <dd><code>v3.0.3</code></dd>\n",
              "              <dt>Master</dt>\n",
              "                <dd><code>local</code></dd>\n",
              "              <dt>AppName</dt>\n",
              "                <dd><code>Colab</code></dd>\n",
              "            </dl>\n",
              "        </div>\n",
              "        \n",
              "            </div>\n",
              "        "
            ],
            "text/plain": [
              "<pyspark.sql.session.SparkSession at 0x7f1af9ec5650>"
            ]
          },
          "metadata": {},
          "execution_count": 11
        }
      ]
    },
    {
      "cell_type": "code",
      "metadata": {
        "id": "OutzvpeOU2Mx"
      },
      "source": [
        "os.environ[\"HADOOP_HOME\"] = os.environ[\"SPARK_HOME\"]\n",
        "\n",
        "os.environ[\"PYSPARK_DRIVER_PYTHON\"] = \"jupyter\"\n",
        "os.environ[\"PYSPARK_DRIVER_PYTHON_OPTS\"] = \"notebook\"\n",
        "os.environ[\"PYSPARK_SUBMIT_ARGS\"] = \"--packages graphframes:graphframes:0.8.2-spark3.0-s_2.12 pyspark-shell\""
      ],
      "execution_count": null,
      "outputs": []
    },
    {
      "cell_type": "code",
      "metadata": {
        "id": "6hmPaTNdUhFH"
      },
      "source": [
        "from graphframes import *"
      ],
      "execution_count": null,
      "outputs": []
    },
    {
      "cell_type": "code",
      "metadata": {
        "id": "Wd0mNJT9WU4C"
      },
      "source": [
        "def init_spark(app_name=\"HelloWorldApp\", execution_mode=\"local[*]\"):\n",
        "  spark = SparkSession.builder.master(execution_mode).appName(app_name).getOrCreate()\n",
        "  sc = spark.sparkContext\n",
        "  return spark, sc"
      ],
      "execution_count": null,
      "outputs": []
    },
    {
      "cell_type": "markdown",
      "metadata": {
        "id": "D36XFlkOZgFO"
      },
      "source": [
        "## Example: GraphFrame"
      ]
    },
    {
      "cell_type": "code",
      "metadata": {
        "colab": {
          "base_uri": "https://localhost:8080/"
        },
        "id": "Sp5XXN6xWPOZ",
        "outputId": "e4428bc0-93a9-4cff-ba58-3d0d88c70fed"
      },
      "source": [
        "from pyspark.sql import SparkSession\n",
        "from pyspark.sql import SQLContext\n",
        "\n",
        "_, sc = init_spark()\n",
        "sqlContext = SQLContext(sc)\n",
        "\n",
        "## the rest of this code (down below) comes from: https://graphframes.github.io/graphframes/docs/_site/quick-start.html#getting-started-with-apache-spark-and-spark-packages\n",
        "\n",
        "# Create a Vertex DataFrame with unique ID column \"id\"\n",
        "v = sqlContext.createDataFrame([\n",
        "  (\"a\", \"Alice\", 34),\n",
        "  (\"b\", \"Bob\", 36),\n",
        "  (\"c\", \"Charlie\", 30),\n",
        "], [\"id\", \"name\", \"age\"])\n",
        "\n",
        "# Create an Edge DataFrame with \"src\" and \"dst\" columns\n",
        "e = sqlContext.createDataFrame([\n",
        "  (\"a\", \"b\", \"friend\"),\n",
        "  (\"b\", \"c\", \"follow\"),\n",
        "  (\"c\", \"b\", \"follow\"),\n",
        "], [\"src\", \"dst\", \"relationship\"])\n",
        "\n",
        "# Create a GraphFrame\n",
        "from graphframes import *\n",
        "g = GraphFrame(v, e)\n",
        "\n",
        "# Query: Get in-degree of each vertex.\n",
        "g.inDegrees.show()\n",
        "\n",
        "# Query: Count the number of \"follow\" connections in the graph.\n",
        "g.edges.filter(\"relationship = 'follow'\").count()"
      ],
      "execution_count": null,
      "outputs": [
        {
          "output_type": "stream",
          "name": "stdout",
          "text": [
            "+---+--------+\n",
            "| id|inDegree|\n",
            "+---+--------+\n",
            "|  c|       1|\n",
            "|  b|       2|\n",
            "+---+--------+\n",
            "\n"
          ]
        },
        {
          "output_type": "execute_result",
          "data": {
            "text/plain": [
              "2"
            ]
          },
          "metadata": {},
          "execution_count": 15
        }
      ]
    },
    {
      "cell_type": "markdown",
      "metadata": {
        "id": "rsPby-3PZxX5"
      },
      "source": [
        "# Importing the Data into Apache Spark"
      ]
    },
    {
      "cell_type": "code",
      "metadata": {
        "colab": {
          "base_uri": "https://localhost:8080/"
        },
        "id": "Ca6_kmUwZtQi",
        "outputId": "ec9c13b7-ffb2-40e8-da50-56855fa486cb"
      },
      "source": [
        "!mkdir data\n",
        "!wget -q https://github.com/neo4j-graph-analytics/book/raw/master/data/social-nodes.csv\n",
        "!wget -q https://github.com/neo4j-graph-analytics/book/raw/master/data/social-relationships.csv\n",
        "!mv social-nodes.csv data\n",
        "!mv social-relationships.csv data"
      ],
      "execution_count": 2,
      "outputs": [
        {
          "output_type": "stream",
          "name": "stdout",
          "text": [
            "mkdir: cannot create directory ‘data’: File exists\n"
          ]
        }
      ]
    },
    {
      "cell_type": "code",
      "metadata": {
        "id": "CaQzcNl1Z6mz"
      },
      "source": [
        "from pyspark.sql.types import *\n",
        "from graphframes import *"
      ],
      "execution_count": null,
      "outputs": []
    },
    {
      "cell_type": "code",
      "metadata": {
        "id": "amz9QL3vaPox"
      },
      "source": [
        "# // tag::load-graph-frame[]\n",
        "def create_transport_graph():\n",
        "    node_fields = [\n",
        "        StructField(\"id\", StringType(), True),\n",
        "        StructField(\"latitude\", FloatType(), True),\n",
        "        StructField(\"longitude\", FloatType(), True),\n",
        "        StructField(\"population\", IntegerType(), True)\n",
        "    ]\n",
        "    nodes = spark.read.csv(\"data/transport-nodes.csv\", header=True,\n",
        "                           schema=StructType(node_fields))\n",
        "\n",
        "    rels = spark.read.csv(\"data/transport-relationships.csv\", header=True)\n",
        "    reversed_rels = (rels.withColumn(\"newSrc\", rels.dst)\n",
        "                     .withColumn(\"newDst\", rels.src)\n",
        "                     .drop(\"dst\", \"src\")\n",
        "                     .withColumnRenamed(\"newSrc\", \"src\")\n",
        "                     .withColumnRenamed(\"newDst\", \"dst\")\n",
        "                     .select(\"src\", \"dst\", \"relationship\", \"cost\"))\n",
        "\n",
        "    relationships = rels.union(reversed_rels)\n",
        "\n",
        "    return GraphFrame(nodes, relationships)\n",
        "# // end::load-graph-frame[]\n"
      ],
      "execution_count": null,
      "outputs": []
    },
    {
      "cell_type": "code",
      "metadata": {
        "id": "2GYYamgzaUku"
      },
      "source": [
        "g = create_transport_graph()"
      ],
      "execution_count": null,
      "outputs": []
    },
    {
      "cell_type": "markdown",
      "metadata": {
        "id": "EKjzbECybZZt"
      },
      "source": [
        "## GraphFrame Basics"
      ]
    },
    {
      "cell_type": "code",
      "metadata": {
        "colab": {
          "base_uri": "https://localhost:8080/"
        },
        "id": "pfpvGc8TbbG7",
        "outputId": "f72761af-4f45-49b6-a5d3-42d529f1add9"
      },
      "source": [
        "g.vertices.show()"
      ],
      "execution_count": null,
      "outputs": [
        {
          "output_type": "stream",
          "name": "stdout",
          "text": [
            "+----------------+---------+---------+----------+\n",
            "|              id| latitude|longitude|population|\n",
            "+----------------+---------+---------+----------+\n",
            "|       Amsterdam| 52.37919| 4.899431|    821752|\n",
            "|         Utrecht|52.092876|  5.10448|    334176|\n",
            "|        Den Haag|52.078663| 4.288788|    514861|\n",
            "|       Immingham| 53.61239| -0.22219|      9642|\n",
            "|       Doncaster| 53.52285| -1.13116|    302400|\n",
            "|Hoek van Holland|  51.9775|  4.13333|      9382|\n",
            "|      Felixstowe| 51.96375|   1.3511|     23689|\n",
            "|         Ipswich| 52.05917|  1.15545|    133384|\n",
            "|      Colchester| 51.88921|  0.90421|    104390|\n",
            "|          London|51.509865|-0.118092|   8787892|\n",
            "|       Rotterdam|  51.9225|  4.47917|    623652|\n",
            "|           Gouda| 52.01667|  4.70833|     70939|\n",
            "+----------------+---------+---------+----------+\n",
            "\n"
          ]
        }
      ]
    },
    {
      "cell_type": "code",
      "metadata": {
        "colab": {
          "base_uri": "https://localhost:8080/"
        },
        "id": "kup7sANVbcnI",
        "outputId": "bf5c58e4-25cb-454c-971e-2d2cb1135717"
      },
      "source": [
        "g.edges.show()"
      ],
      "execution_count": null,
      "outputs": [
        {
          "output_type": "stream",
          "name": "stdout",
          "text": [
            "+----------------+----------------+------------+----+\n",
            "|             src|             dst|relationship|cost|\n",
            "+----------------+----------------+------------+----+\n",
            "|       Amsterdam|         Utrecht|       EROAD|  46|\n",
            "|       Amsterdam|        Den Haag|       EROAD|  59|\n",
            "|        Den Haag|       Rotterdam|       EROAD|  26|\n",
            "|       Amsterdam|       Immingham|       EROAD| 369|\n",
            "|       Immingham|       Doncaster|       EROAD|  74|\n",
            "|       Doncaster|          London|       EROAD| 277|\n",
            "|Hoek van Holland|        Den Haag|       EROAD|  27|\n",
            "|      Felixstowe|Hoek van Holland|       EROAD| 207|\n",
            "|         Ipswich|      Felixstowe|       EROAD|  22|\n",
            "|      Colchester|         Ipswich|       EROAD|  32|\n",
            "|          London|      Colchester|       EROAD| 106|\n",
            "|           Gouda|       Rotterdam|       EROAD|  25|\n",
            "|           Gouda|         Utrecht|       EROAD|  35|\n",
            "|        Den Haag|           Gouda|       EROAD|  32|\n",
            "|Hoek van Holland|       Rotterdam|       EROAD|  33|\n",
            "|         Utrecht|       Amsterdam|       EROAD|  46|\n",
            "|        Den Haag|       Amsterdam|       EROAD|  59|\n",
            "|       Rotterdam|        Den Haag|       EROAD|  26|\n",
            "|       Immingham|       Amsterdam|       EROAD| 369|\n",
            "|       Doncaster|       Immingham|       EROAD|  74|\n",
            "+----------------+----------------+------------+----+\n",
            "only showing top 20 rows\n",
            "\n"
          ]
        }
      ]
    },
    {
      "cell_type": "code",
      "metadata": {
        "colab": {
          "base_uri": "https://localhost:8080/"
        },
        "id": "OTcx9cO7bgRR",
        "outputId": "02ccdad2-9017-47b8-f480-f90113409909"
      },
      "source": [
        "vertexInDegrees = g.inDegrees\n",
        "\n",
        "# Find the youngest user's age in the graph.\n",
        "# This queries the vertex DataFrame.\n",
        "g.vertices.groupBy().min(\"population\").show()"
      ],
      "execution_count": null,
      "outputs": [
        {
          "output_type": "stream",
          "name": "stdout",
          "text": [
            "+---------------+\n",
            "|min(population)|\n",
            "+---------------+\n",
            "|           9382|\n",
            "+---------------+\n",
            "\n"
          ]
        }
      ]
    },
    {
      "cell_type": "code",
      "metadata": {
        "colab": {
          "base_uri": "https://localhost:8080/"
        },
        "id": "x86y3K7Sb0iK",
        "outputId": "642516cb-1bc3-47b7-a6bf-1813086be02b"
      },
      "source": [
        "# Count the number of \"EROAD\" in the graph.\n",
        "# This queries the edge DataFrame.\n",
        "numFollows = g.edges.filter(\"relationship = 'EROAD'\").count()\n",
        "numFollows"
      ],
      "execution_count": null,
      "outputs": [
        {
          "output_type": "execute_result",
          "data": {
            "text/plain": [
              "30"
            ]
          },
          "metadata": {},
          "execution_count": 38
        }
      ]
    },
    {
      "cell_type": "markdown",
      "metadata": {
        "id": "2rYmQY7ka0Cq"
      },
      "source": [
        "# Breadth First Search with Apache Spark"
      ]
    },
    {
      "cell_type": "code",
      "metadata": {
        "colab": {
          "base_uri": "https://localhost:8080/"
        },
        "id": "OMlmXR8xazcz",
        "outputId": "e403fd7c-eb07-4112-8a0d-d38969696d72"
      },
      "source": [
        "(g.vertices\n",
        ".filter(\"population > 100000 and population < 300000\")\n",
        ".sort(\"population\")\n",
        ".show())"
      ],
      "execution_count": null,
      "outputs": [
        {
          "output_type": "stream",
          "name": "stdout",
          "text": [
            "+----------+--------+---------+----------+\n",
            "|        id|latitude|longitude|population|\n",
            "+----------+--------+---------+----------+\n",
            "|Colchester|51.88921|  0.90421|    104390|\n",
            "|   Ipswich|52.05917|  1.15545|    133384|\n",
            "+----------+--------+---------+----------+\n",
            "\n"
          ]
        }
      ]
    },
    {
      "cell_type": "code",
      "metadata": {
        "id": "fr-LKHItbFDh"
      },
      "source": [
        "from_expr = \"id='Den Haag'\"\n",
        "to_expr = \"population > 100000 and population < 300000 and id <> 'Den Haag'\"\n",
        "result = g.bfs(from_expr, to_expr)"
      ],
      "execution_count": null,
      "outputs": []
    },
    {
      "cell_type": "code",
      "metadata": {
        "colab": {
          "base_uri": "https://localhost:8080/"
        },
        "id": "LuEUPA0LbJux",
        "outputId": "03edc78c-85e2-4734-df55-b07ec6e64df0"
      },
      "source": [
        "print(result.columns)"
      ],
      "execution_count": null,
      "outputs": [
        {
          "output_type": "stream",
          "name": "stdout",
          "text": [
            "['from', 'e0', 'v1', 'e1', 'v2', 'e2', 'to']\n"
          ]
        }
      ]
    },
    {
      "cell_type": "code",
      "metadata": {
        "colab": {
          "base_uri": "https://localhost:8080/"
        },
        "id": "ibzSdMbjbLy7",
        "outputId": "a3110f80-42be-4e74-bc45-c5fc9ebd88a3"
      },
      "source": [
        "columns = [column for column in result.columns if not column.startswith(\"e\")]\n",
        "result.select(columns).show()"
      ],
      "execution_count": null,
      "outputs": [
        {
          "output_type": "stream",
          "name": "stdout",
          "text": [
            "+--------------------+--------------------+--------------------+--------------------+\n",
            "|                from|                  v1|                  v2|                  to|\n",
            "+--------------------+--------------------+--------------------+--------------------+\n",
            "|[Den Haag, 52.078...|[Hoek van Holland...|[Felixstowe, 51.9...|[Ipswich, 52.0591...|\n",
            "+--------------------+--------------------+--------------------+--------------------+\n",
            "\n"
          ]
        }
      ]
    },
    {
      "cell_type": "markdown",
      "metadata": {
        "id": "xOveKixRdaMq"
      },
      "source": [
        "# Shortest Path (Weighted) with Apache Spark"
      ]
    },
    {
      "cell_type": "code",
      "metadata": {
        "id": "ZZADhj77dVCD"
      },
      "source": [
        "from graphframes.lib import AggregateMessages as AM\n",
        "from pyspark.sql import functions as F"
      ],
      "execution_count": null,
      "outputs": []
    },
    {
      "cell_type": "code",
      "metadata": {
        "id": "PXse9gaVddqH"
      },
      "source": [
        "add_path_udf = F.udf(lambda path, id: path + [id], ArrayType(StringType()))"
      ],
      "execution_count": null,
      "outputs": []
    },
    {
      "cell_type": "code",
      "metadata": {
        "id": "Zk7Q4EUDdpoS"
      },
      "source": [
        "# // tag::custom-shortest-path[]\n",
        "def shortest_path(g, origin, destination, column_name=\"cost\"):\n",
        "    if g.vertices.filter(g.vertices.id == destination).count() == 0:\n",
        "        return (spark.createDataFrame(sc.emptyRDD(), g.vertices.schema)\n",
        "                .withColumn(\"path\", F.array()))\n",
        "\n",
        "    vertices = (g.vertices.withColumn(\"visited\", F.lit(False))\n",
        "                .withColumn(\"distance\", F.when(g.vertices[\"id\"] == origin, 0)\n",
        "                            .otherwise(float(\"inf\")))\n",
        "                .withColumn(\"path\", F.array()))\n",
        "    cached_vertices = AM.getCachedDataFrame(vertices)\n",
        "    g2 = GraphFrame(cached_vertices, g.edges)\n",
        "\n",
        "    while g2.vertices.filter('visited == False').first():\n",
        "        current_node_id = g2.vertices.filter('visited == False').sort(\"distance\").first().id\n",
        "\n",
        "        msg_distance = AM.edge[column_name] + AM.src['distance']\n",
        "        msg_path = add_path_udf(AM.src[\"path\"], AM.src[\"id\"])\n",
        "        msg_for_dst = F.when(AM.src['id'] == current_node_id, F.struct(msg_distance, msg_path))\n",
        "        new_distances = g2.aggregateMessages(F.min(AM.msg).alias(\"aggMess\"),\n",
        "                                             sendToDst=msg_for_dst)\n",
        "\n",
        "        new_visited_col = F.when(\n",
        "            g2.vertices.visited | (g2.vertices.id == current_node_id), True).otherwise(False)\n",
        "        new_distance_col = F.when(new_distances[\"aggMess\"].isNotNull() &\n",
        "                                  (new_distances.aggMess[\"col1\"] < g2.vertices.distance),\n",
        "                                  new_distances.aggMess[\"col1\"]) \\\n",
        "            .otherwise(g2.vertices.distance)\n",
        "        new_path_col = F.when(new_distances[\"aggMess\"].isNotNull() &\n",
        "                              (new_distances.aggMess[\"col1\"] < g2.vertices.distance),\n",
        "                              new_distances.aggMess[\"col2\"].cast(\"array<string>\")) \\\n",
        "            .otherwise(g2.vertices.path)\n",
        "\n",
        "        new_vertices = (g2.vertices.join(new_distances, on=\"id\", how=\"left_outer\")\n",
        "                        .drop(new_distances[\"id\"])\n",
        "                        .withColumn(\"visited\", new_visited_col)\n",
        "                        .withColumn(\"newDistance\", new_distance_col)\n",
        "                        .withColumn(\"newPath\", new_path_col)\n",
        "                        .drop(\"aggMess\", \"distance\", \"path\")\n",
        "                        .withColumnRenamed('newDistance', 'distance')\n",
        "                        .withColumnRenamed('newPath', 'path'))\n",
        "        cached_new_vertices = AM.getCachedDataFrame(new_vertices)\n",
        "        g2 = GraphFrame(cached_new_vertices, g2.edges)\n",
        "        if g2.vertices.filter(g2.vertices.id == destination).first().visited:\n",
        "            return (g2.vertices.filter(g2.vertices.id == destination)\n",
        "                    .withColumn(\"newPath\", add_path_udf(\"path\", \"id\"))\n",
        "                    .drop(\"visited\", \"path\")\n",
        "                    .withColumnRenamed(\"newPath\", \"path\"))\n",
        "    return (spark.createDataFrame(sc.emptyRDD(), g.vertices.schema)\n",
        "            .withColumn(\"path\", F.array()))\n",
        "# // end::custom-shortest-path[]"
      ],
      "execution_count": null,
      "outputs": []
    },
    {
      "cell_type": "code",
      "metadata": {
        "colab": {
          "base_uri": "https://localhost:8080/"
        },
        "id": "ZqbVVeMydr2i",
        "outputId": "af98c845-b4ef-4fa1-cc51-5b00867e9386"
      },
      "source": [
        "%%timeit\n",
        "result = shortest_path(g, \"Amsterdam\", \"Colchester\", \"cost\")\n",
        "result.select(\"id\", \"distance\", \"path\").show(truncate=False)"
      ],
      "execution_count": null,
      "outputs": [
        {
          "output_type": "stream",
          "name": "stdout",
          "text": [
            "+----------+--------+------------------------------------------------------------------------+\n",
            "|id        |distance|path                                                                    |\n",
            "+----------+--------+------------------------------------------------------------------------+\n",
            "|Colchester|347.0   |[Amsterdam, Den Haag, Hoek van Holland, Felixstowe, Ipswich, Colchester]|\n",
            "+----------+--------+------------------------------------------------------------------------+\n",
            "\n",
            "+----------+--------+------------------------------------------------------------------------+\n",
            "|id        |distance|path                                                                    |\n",
            "+----------+--------+------------------------------------------------------------------------+\n",
            "|Colchester|347.0   |[Amsterdam, Den Haag, Hoek van Holland, Felixstowe, Ipswich, Colchester]|\n",
            "+----------+--------+------------------------------------------------------------------------+\n",
            "\n",
            "+----------+--------+------------------------------------------------------------------------+\n",
            "|id        |distance|path                                                                    |\n",
            "+----------+--------+------------------------------------------------------------------------+\n",
            "|Colchester|347.0   |[Amsterdam, Den Haag, Hoek van Holland, Felixstowe, Ipswich, Colchester]|\n",
            "+----------+--------+------------------------------------------------------------------------+\n",
            "\n",
            "+----------+--------+------------------------------------------------------------------------+\n",
            "|id        |distance|path                                                                    |\n",
            "+----------+--------+------------------------------------------------------------------------+\n",
            "|Colchester|347.0   |[Amsterdam, Den Haag, Hoek van Holland, Felixstowe, Ipswich, Colchester]|\n",
            "+----------+--------+------------------------------------------------------------------------+\n",
            "\n",
            "+----------+--------+------------------------------------------------------------------------+\n",
            "|id        |distance|path                                                                    |\n",
            "+----------+--------+------------------------------------------------------------------------+\n",
            "|Colchester|347.0   |[Amsterdam, Den Haag, Hoek van Holland, Felixstowe, Ipswich, Colchester]|\n",
            "+----------+--------+------------------------------------------------------------------------+\n",
            "\n",
            "+----------+--------+------------------------------------------------------------------------+\n",
            "|id        |distance|path                                                                    |\n",
            "+----------+--------+------------------------------------------------------------------------+\n",
            "|Colchester|347.0   |[Amsterdam, Den Haag, Hoek van Holland, Felixstowe, Ipswich, Colchester]|\n",
            "+----------+--------+------------------------------------------------------------------------+\n",
            "\n",
            "1 loop, best of 5: 4min 11s per loop\n"
          ]
        }
      ]
    },
    {
      "cell_type": "markdown",
      "metadata": {
        "id": "01D-kupZeU8M"
      },
      "source": [
        "# All Pairs Shortest Path with Apache Spark"
      ]
    },
    {
      "cell_type": "code",
      "metadata": {
        "colab": {
          "base_uri": "https://localhost:8080/"
        },
        "id": "OzpooQ2VfA5w",
        "outputId": "3afbbe00-a310-452e-db09-d09ce5f2aff5"
      },
      "source": [
        "%%timeit\n",
        "result = g.shortestPaths([\"Colchester\", \"Immingham\", \"Hoek van Holland\"])\n",
        "result.sort([\"id\"]).select(\"id\", \"distances\").show(truncate=False)"
      ],
      "execution_count": null,
      "outputs": [
        {
          "output_type": "stream",
          "name": "stdout",
          "text": [
            "+----------------+--------------------------------------------------------+\n",
            "|id              |distances                                               |\n",
            "+----------------+--------------------------------------------------------+\n",
            "|Amsterdam       |[Immingham -> 1, Hoek van Holland -> 2, Colchester -> 4]|\n",
            "|Colchester      |[Hoek van Holland -> 3, Immingham -> 3, Colchester -> 0]|\n",
            "|Den Haag        |[Hoek van Holland -> 1, Immingham -> 2, Colchester -> 4]|\n",
            "|Doncaster       |[Hoek van Holland -> 4, Immingham -> 1, Colchester -> 2]|\n",
            "|Felixstowe      |[Immingham -> 4, Hoek van Holland -> 1, Colchester -> 2]|\n",
            "|Gouda           |[Hoek van Holland -> 2, Immingham -> 3, Colchester -> 5]|\n",
            "|Hoek van Holland|[Immingham -> 3, Hoek van Holland -> 0, Colchester -> 3]|\n",
            "|Immingham       |[Hoek van Holland -> 3, Immingham -> 0, Colchester -> 3]|\n",
            "|Ipswich         |[Immingham -> 4, Hoek van Holland -> 2, Colchester -> 1]|\n",
            "|London          |[Hoek van Holland -> 4, Immingham -> 2, Colchester -> 1]|\n",
            "|Rotterdam       |[Hoek van Holland -> 1, Immingham -> 3, Colchester -> 4]|\n",
            "|Utrecht         |[Immingham -> 2, Hoek van Holland -> 3, Colchester -> 5]|\n",
            "+----------------+--------------------------------------------------------+\n",
            "\n"
          ]
        }
      ]
    },
    {
      "cell_type": "markdown",
      "metadata": {
        "id": "nKzRUytPnO9c"
      },
      "source": [
        "# Single Source Shortest Path\n"
      ]
    },
    {
      "cell_type": "code",
      "metadata": {
        "id": "lP3xL9dinTgg"
      },
      "source": [
        "from graphframes.lib import AggregateMessages as AM\n",
        "from pyspark.sql import functions as F"
      ],
      "execution_count": null,
      "outputs": []
    },
    {
      "cell_type": "code",
      "metadata": {
        "id": "6LSEzisQnYK4"
      },
      "source": [
        "add_path_udf = F.udf(lambda path, id: path + [id], ArrayType(StringType()))"
      ],
      "execution_count": null,
      "outputs": []
    },
    {
      "cell_type": "code",
      "metadata": {
        "id": "mau3ShEdnZof"
      },
      "source": [
        "# // tag::sssp[]\n",
        "def sssp(g, origin, column_name=\"cost\"):\n",
        "    vertices = g.vertices \\\n",
        "        .withColumn(\"visited\", F.lit(False)) \\\n",
        "        .withColumn(\"distance\",\n",
        "            F.when(g.vertices[\"id\"] == origin, 0).otherwise(float(\"inf\"))) \\\n",
        "        .withColumn(\"path\", F.array())\n",
        "    cached_vertices = AM.getCachedDataFrame(vertices)\n",
        "    g2 = GraphFrame(cached_vertices, g.edges)\n",
        "\n",
        "    while g2.vertices.filter('visited == False').first():\n",
        "        current_node_id = g2.vertices.filter('visited == False').sort(\"distance\").first().id\n",
        "\n",
        "        msg_distance = AM.edge[column_name] + AM.src['distance']\n",
        "        msg_path = add_path_udf(AM.src[\"path\"], AM.src[\"id\"])\n",
        "        msg_for_dst = F.when(AM.src['id'] == current_node_id, F.struct(msg_distance, msg_path))\n",
        "        new_distances = g2.aggregateMessages(\n",
        "            F.min(AM.msg).alias(\"aggMess\"), sendToDst=msg_for_dst)\n",
        "\n",
        "        new_visited_col = F.when(\n",
        "            g2.vertices.visited | (g2.vertices.id == current_node_id), True).otherwise(False)\n",
        "        new_distance_col = F.when(new_distances[\"aggMess\"].isNotNull() &\n",
        "                                  (new_distances.aggMess[\"col1\"] < g2.vertices.distance),\n",
        "                                  new_distances.aggMess[\"col1\"]) \\\n",
        "                            .otherwise(g2.vertices.distance)\n",
        "        new_path_col = F.when(new_distances[\"aggMess\"].isNotNull() &\n",
        "                              (new_distances.aggMess[\"col1\"] < g2.vertices.distance),\n",
        "                              new_distances.aggMess[\"col2\"].cast(\"array<string>\")) \\\n",
        "                        .otherwise(g2.vertices.path)\n",
        "\n",
        "        new_vertices = g2.vertices.join(new_distances, on=\"id\", how=\"left_outer\") \\\n",
        "            .drop(new_distances[\"id\"]) \\\n",
        "            .withColumn(\"visited\", new_visited_col) \\\n",
        "            .withColumn(\"newDistance\", new_distance_col) \\\n",
        "            .withColumn(\"newPath\", new_path_col) \\\n",
        "            .drop(\"aggMess\", \"distance\", \"path\") \\\n",
        "            .withColumnRenamed('newDistance', 'distance') \\\n",
        "            .withColumnRenamed('newPath', 'path')\n",
        "        cached_new_vertices = AM.getCachedDataFrame(new_vertices)\n",
        "        g2 = GraphFrame(cached_new_vertices, g2.edges)\n",
        "\n",
        "    return g2.vertices \\\n",
        "                .withColumn(\"newPath\", add_path_udf(\"path\", \"id\")) \\\n",
        "                .drop(\"visited\", \"path\") \\\n",
        "                .withColumnRenamed(\"newPath\", \"path\")\n"
      ],
      "execution_count": null,
      "outputs": []
    },
    {
      "cell_type": "code",
      "metadata": {
        "id": "bl0Z26qLnkyN"
      },
      "source": [
        "via_udf = F.udf(lambda path: path[1:-1], ArrayType(StringType()))"
      ],
      "execution_count": null,
      "outputs": []
    },
    {
      "cell_type": "code",
      "metadata": {
        "colab": {
          "base_uri": "https://localhost:8080/"
        },
        "id": "iNv9Mwi-nntg",
        "outputId": "aaf3ddf3-4896-4b95-9fb7-4b88e1843286"
      },
      "source": [
        "%timeit\n",
        "result = sssp(g, \"Amsterdam\", \"cost\")\n",
        "(result\n",
        ".withColumn(\"via\", via_udf(\"path\"))\n",
        ".select(\"id\", \"distance\", \"via\")\n",
        ".sort(\"distance\")\n",
        ".show(truncate=False))"
      ],
      "execution_count": null,
      "outputs": [
        {
          "output_type": "stream",
          "name": "stdout",
          "text": [
            "+----------------+--------+-------------------------------------------------------------+\n",
            "|id              |distance|via                                                          |\n",
            "+----------------+--------+-------------------------------------------------------------+\n",
            "|Amsterdam       |0.0     |[]                                                           |\n",
            "|Utrecht         |46.0    |[]                                                           |\n",
            "|Den Haag        |59.0    |[]                                                           |\n",
            "|Gouda           |81.0    |[Utrecht]                                                    |\n",
            "|Rotterdam       |85.0    |[Den Haag]                                                   |\n",
            "|Hoek van Holland|86.0    |[Den Haag]                                                   |\n",
            "|Felixstowe      |293.0   |[Den Haag, Hoek van Holland]                                 |\n",
            "|Ipswich         |315.0   |[Den Haag, Hoek van Holland, Felixstowe]                     |\n",
            "|Colchester      |347.0   |[Den Haag, Hoek van Holland, Felixstowe, Ipswich]            |\n",
            "|Immingham       |369.0   |[]                                                           |\n",
            "|Doncaster       |443.0   |[Immingham]                                                  |\n",
            "|London          |453.0   |[Den Haag, Hoek van Holland, Felixstowe, Ipswich, Colchester]|\n",
            "+----------------+--------+-------------------------------------------------------------+\n",
            "\n"
          ]
        }
      ]
    },
    {
      "cell_type": "markdown",
      "metadata": {
        "id": "2UuD9QvjpYEl"
      },
      "source": [
        "# Minimum Spanning Tree"
      ]
    },
    {
      "cell_type": "code",
      "metadata": {
        "id": "3XXfFEXlpa9V"
      },
      "source": [
        "# your challenge we left"
      ],
      "execution_count": null,
      "outputs": []
    },
    {
      "cell_type": "markdown",
      "metadata": {
        "id": "my24GRNUpbkX"
      },
      "source": [
        "# Random Walk"
      ]
    },
    {
      "cell_type": "code",
      "metadata": {
        "id": "5lIbuMLJpe0Z"
      },
      "source": [
        "# your challenge we left"
      ],
      "execution_count": null,
      "outputs": []
    },
    {
      "cell_type": "markdown",
      "metadata": {
        "id": "Oqyh4mH1m7ok"
      },
      "source": [
        "# Appendix: Timing and Profling\n",
        "%time: Time the execution of a single statement\n",
        "\n",
        "%timeit: Time repeated execution of a single statement for more accuracy\n",
        "\n",
        "%prun: Run code with the profiler\n",
        "\n",
        "%lprun: Run code with the line-by-line profiler\n",
        "\n",
        "%memit: Measure the memory use of a single statement\n",
        "\n",
        "%mprun: Run code with the line-by-line memory profile"
      ]
    }
  ]
}