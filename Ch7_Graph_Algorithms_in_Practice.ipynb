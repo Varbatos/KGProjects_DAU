{
 "nbformat": 4,
 "nbformat_minor": 0,
 "metadata": {
  "colab": {
   "name": "Ch5. Centrality Algorithms",
   "provenance": [],
   "collapsed_sections": []
  },
  "kernelspec": {
   "name": "python3",
   "display_name": "Python 3"
  },
  "language_info": {
   "name": "python"
  }
 },
 "cells": [
  {
   "cell_type": "markdown",
   "source": [
    "# Quick setup for pySpark and GraphFrame"
   ],
   "metadata": {
    "collapsed": false
   }
  },
  {
   "cell_type": "code",
   "execution_count": null,
   "outputs": [],
   "source": [
    "!apt-get install openjdk-8-jdk-headless -qq > /dev/null\n",
    "!wget -q https://archive.apache.org/dist/spark/spark-3.0.3/spark-3.0.3-bin-hadoop2.7.tgz"
   ],
   "metadata": {
    "collapsed": false,
    "pycharm": {
     "name": "#%%\n"
    }
   }
  },
  {
   "cell_type": "code",
   "execution_count": null,
   "outputs": [],
   "source": [
    "!tar xf /content/spark-3.0.3-bin-hadoop2.7.tgz"
   ],
   "metadata": {
    "collapsed": false,
    "pycharm": {
     "name": "#%%\n"
    }
   }
  },
  {
   "cell_type": "code",
   "execution_count": null,
   "outputs": [],
   "source": [
    "!wget -q https://repos.spark-packages.org/graphframes/graphframes/0.8.2-spark3.0-s_2.12/graphframes-0.8.2-spark3.0-s_2.12.jar"
   ],
   "metadata": {
    "collapsed": false,
    "pycharm": {
     "name": "#%%\n"
    }
   }
  },
  {
   "cell_type": "code",
   "execution_count": null,
   "outputs": [],
   "source": [
    "## install graphframe library on Colab\n",
    "!mv /content/graphframes-0.8.2-spark3.0-s_2.12.jar /content/spark-3.0.3-bin-hadoop2.7/jars/graphframes-0.8.2-spark3.0-s_2.12.jar"
   ],
   "metadata": {
    "collapsed": false,
    "pycharm": {
     "name": "#%%\n"
    }
   }
  },
  {
   "cell_type": "code",
   "execution_count": null,
   "outputs": [],
   "source": [
    "!pip -q install findspark pyspark graphframes"
   ],
   "metadata": {
    "collapsed": false,
    "pycharm": {
     "name": "#%%\n"
    }
   }
  },
  {
   "cell_type": "code",
   "execution_count": null,
   "outputs": [],
   "source": [
    "import os\n",
    "os.environ[\"JAVA_HOME\"] = \"/usr/lib/jvm/java-8-openjdk-amd64\"\n",
    "os.environ[\"SPARK_HOME\"] = \"/content/spark-3.0.3-bin-hadoop2.7\""
   ],
   "metadata": {
    "collapsed": false,
    "pycharm": {
     "name": "#%%\n"
    }
   }
  },
  {
   "cell_type": "code",
   "execution_count": null,
   "outputs": [],
   "source": [
    "import findspark\n",
    "findspark.init()"
   ],
   "metadata": {
    "collapsed": false,
    "pycharm": {
     "name": "#%%\n"
    }
   }
  },
  {
   "cell_type": "code",
   "execution_count": null,
   "outputs": [],
   "source": [
    "from pyspark.sql import SparkSession\n",
    "\n",
    "spark = SparkSession.builder\\\n",
    "        .master(\"local\")\\\n",
    "        .appName(\"Colab\")\\\n",
    "        .config('spark.ui.port', '4050')\\\n",
    "        .getOrCreate()"
   ],
   "metadata": {
    "collapsed": false,
    "pycharm": {
     "name": "#%%\n"
    }
   }
  },
  {
   "cell_type": "code",
   "execution_count": null,
   "outputs": [],
   "source": [
    "# confirm the spark installation\n",
    "spark"
   ],
   "metadata": {
    "collapsed": false,
    "pycharm": {
     "name": "#%%\n"
    }
   }
  },
  {
   "cell_type": "code",
   "execution_count": null,
   "outputs": [],
   "source": [
    "os.environ[\"HADOOP_HOME\"] = os.environ[\"SPARK_HOME\"]\n",
    "\n",
    "os.environ[\"PYSPARK_DRIVER_PYTHON\"] = \"jupyter\"\n",
    "os.environ[\"PYSPARK_DRIVER_PYTHON_OPTS\"] = \"notebook\"\n",
    "os.environ[\"PYSPARK_SUBMIT_ARGS\"] = \"--packages graphframes:graphframes:0.8.2-spark3.0-s_2.12 pyspark-shell\""
   ],
   "metadata": {
    "collapsed": false,
    "pycharm": {
     "name": "#%%\n"
    }
   }
  },
  {
   "cell_type": "code",
   "execution_count": null,
   "outputs": [],
   "source": [
    "from graphframes import *"
   ],
   "metadata": {
    "collapsed": false,
    "pycharm": {
     "name": "#%%\n"
    }
   }
  },
  {
   "cell_type": "code",
   "execution_count": null,
   "outputs": [],
   "source": [
    "def init_spark(app_name=\"HelloWorldApp\", execution_mode=\"local[*]\"):\n",
    "  spark = SparkSession.builder.master(execution_mode).appName(app_name).getOrCreate()\n",
    "  sc = spark.sparkContext\n",
    "  return spark, sc"
   ],
   "metadata": {
    "collapsed": false,
    "pycharm": {
     "name": "#%%\n"
    }
   }
  },
  {
   "cell_type": "markdown",
   "source": [
    "# Importing the Data into Apache Spark"
   ],
   "metadata": {
    "collapsed": false
   }
  },
  {
   "cell_type": "code",
   "execution_count": null,
   "outputs": [],
   "source": [
    "!mkdir data\n",
    "!wget -q https://github.com/chunsejin/KGProjects_DAU/raw/master/data/airports.csv\n",
    "!wget -q https://github.com/chunsejin/KGProjects_DAU/raw/master/data/188591317_T_ONTIME.csv.gz\n",
    "!unzip 188591317_T_ONTIME.csv.gz\n",
    "!mv airports.csv data\n",
    "!mv 188591317_T_ONTIME.csv data"
   ],
   "metadata": {
    "collapsed": false,
    "pycharm": {
     "name": "#%%\n"
    }
   }
  },
  {
   "cell_type": "code",
   "execution_count": null,
   "outputs": [],
   "source": [
    "from graphframes import *\n",
    "from pyspark import SparkContext"
   ],
   "metadata": {
    "collapsed": false,
    "pycharm": {
     "name": "#%%\n"
    }
   }
  },
  {
   "cell_type": "code",
   "execution_count": null,
   "outputs": [],
   "source": [
    "nodes = spark.read.csv(\"data/airports.csv\", header=False)\n",
    "cleaned_nodes = (nodes.select(\"_c1\", \"_c3\", \"_c4\", \"_c6\", \"_c7\")\n",
    "                 .filter(\"_c3 = 'United States'\")\n",
    "                 .withColumnRenamed(\"_c1\", \"name\")\n",
    "                 .withColumnRenamed(\"_c4\", \"id\")\n",
    "                 .withColumnRenamed(\"_c6\", \"latitude\")\n",
    "                 .withColumnRenamed(\"_c7\", \"longitude\")\n",
    "                 .drop(\"_c3\"))\n",
    "cleaned_nodes = cleaned_nodes[cleaned_nodes[\"id\"] != \"\\\\N\"]"
   ],
   "metadata": {
    "collapsed": false,
    "pycharm": {
     "name": "#%%\n"
    }
   }
  },
  {
   "cell_type": "code",
   "execution_count": null,
   "outputs": [],
   "source": [
    "relationships = spark.read.csv(\"data/188591317_T_ONTIME.csv\", header=True)\n",
    "cleaned_relationships = (relationships\n",
    "                         .select(\"ORIGIN\", \"DEST\", \"FL_DATE\", \"DEP_DELAY\",\n",
    "                                 \"ARR_DELAY\", \"DISTANCE\", \"TAIL_NUM\", \"FL_NUM\",\n",
    "                                 \"CRS_DEP_TIME\", \"CRS_ARR_TIME\",\n",
    "                                 \"UNIQUE_CARRIER\")\n",
    "                         .withColumnRenamed(\"ORIGIN\", \"src\")\n",
    "                         .withColumnRenamed(\"DEST\", \"dst\")\n",
    "                         .withColumnRenamed(\"DEP_DELAY\", \"deptDelay\")\n",
    "                         .withColumnRenamed(\"ARR_DELAY\", \"arrDelay\")\n",
    "                         .withColumnRenamed(\"TAIL_NUM\", \"tailNumber\")\n",
    "                         .withColumnRenamed(\"FL_NUM\", \"flightNumber\")\n",
    "                         .withColumnRenamed(\"FL_DATE\", \"date\")\n",
    "                         .withColumnRenamed(\"CRS_DEP_TIME\", \"time\")\n",
    "                         .withColumnRenamed(\"CRS_ARR_TIME\", \"arrivalTime\")\n",
    "                         .withColumnRenamed(\"DISTANCE\", \"distance\")\n",
    "                         .withColumnRenamed(\"UNIQUE_CARRIER\", \"airline\")\n",
    "                         .withColumn(\"deptDelay\",\n",
    "                                     F.col(\"deptDelay\").cast(FloatType()))\n",
    "                         .withColumn(\"arrDelay\",F.col(\"arrDelay\").cast(FloatType()))\n",
    "                         .withColumn(\"time\", F.col(\"time\").cast(IntegerType()))\n",
    "                         .withColumn(\"arrivalTime\",\n",
    "                                     F.col(\"arrivalTime\").cast(IntegerType()))\n",
    "                         )"
   ],
   "metadata": {
    "collapsed": false,
    "pycharm": {
     "name": "#%%\n"
    }
   }
  },
  {
   "cell_type": "code",
   "execution_count": null,
   "outputs": [],
   "source": [
    "g = GraphFrame(cleaned_nodes, cleaned_relationships)"
   ],
   "metadata": {
    "collapsed": false,
    "pycharm": {
     "name": "#%%\n"
    }
   }
  },
  {
   "cell_type": "code",
   "execution_count": null,
   "outputs": [],
   "source": [
    "airlines_reference = (spark.read.csv(\"data/airlines.csv\")\n",
    "                      .select(\"_c1\", \"_c3\")\n",
    "                      .withColumnRenamed(\"_c1\", \"name\")\n",
    "                      .withColumnRenamed(\"_c3\", \"code\"))"
   ],
   "metadata": {
    "collapsed": false,
    "pycharm": {
     "name": "#%%\n"
    }
   }
  },
  {
   "cell_type": "code",
   "execution_count": null,
   "outputs": [],
   "source": [
    "airlines_reference = airlines_reference[airlines_reference[\"code\"] != \"null\"]"
   ],
   "metadata": {
    "collapsed": false,
    "pycharm": {
     "name": "#%%\n"
    }
   }
  },
  {
   "cell_type": "markdown",
   "source": [
    "# Exploratory Analysis"
   ],
   "metadata": {
    "collapsed": false,
    "pycharm": {
     "name": "#%% md\n"
    }
   }
  },
  {
   "cell_type": "code",
   "execution_count": null,
   "outputs": [],
   "source": [
    "# how many airports we have\n",
    "g.vertices.count()"
   ],
   "metadata": {
    "collapsed": false,
    "pycharm": {
     "name": "#%%\n"
    }
   }
  },
  {
   "cell_type": "code",
   "execution_count": null,
   "outputs": [],
   "source": [
    "# how many connections do we have between these airports?\n",
    "g.edges.count()"
   ],
   "metadata": {
    "collapsed": false,
    "pycharm": {
     "name": "#%%\n"
    }
   }
  },
  {
   "cell_type": "markdown",
   "source": [
    "# Popular Airports"
   ],
   "metadata": {
    "collapsed": false,
    "pycharm": {
     "name": "#%% md\n"
    }
   }
  },
  {
   "cell_type": "code",
   "execution_count": null,
   "outputs": [],
   "source": [
    "airports_degree = g.outDegrees.withColumnRenamed(\"id\", \"oId\")"
   ],
   "metadata": {
    "collapsed": false,
    "pycharm": {
     "name": "#%%\n"
    }
   }
  },
  {
   "cell_type": "code",
   "execution_count": null,
   "outputs": [],
   "source": [
    "full_airports_degree = (airports_degree\n",
    "                        .join(g.vertices, airports_degree.oId == g.vertices.id)\n",
    "                        .sort(\"outDegree\", ascending=False)\n",
    "                        .select(\"id\", \"name\", \"outDegree\"))"
   ],
   "metadata": {
    "collapsed": false,
    "pycharm": {
     "name": "#%%\n"
    }
   }
  },
  {
   "cell_type": "code",
   "execution_count": null,
   "outputs": [],
   "source": [
    "full_airports_degree.show(n=10, truncate=False)"
   ],
   "metadata": {
    "collapsed": false,
    "pycharm": {
     "name": "#%%\n"
    }
   }
  },
  {
   "cell_type": "code",
   "execution_count": null,
   "outputs": [],
   "source": [
    "# a visual representation of the out‐going flights\n",
    "plt.style.use('fivethirtyeight')\n",
    "\n",
    "ax = (full_airports_degree\n",
    "      .toPandas()\n",
    "      .head(10)\n",
    "      .plot(kind='bar', x='id', y='outDegree', legend=None))\n",
    "ax.xaxis.set_label_text(\"\")\n",
    "plt.xticks(rotation=45)\n",
    "plt.tight_la"
   ],
   "metadata": {
    "collapsed": false,
    "pycharm": {
     "name": "#%%\n"
    }
   }
  },
  {
   "cell_type": "markdown",
   "source": [
    "Delays from ORD ( Chicago O’Hare International Airport (ORD) )"
   ],
   "metadata": {
    "collapsed": false,
    "pycharm": {
     "name": "#%% md\n"
    }
   }
  },
  {
   "cell_type": "code",
   "execution_count": null,
   "outputs": [],
   "source": [
    "delayed_flights = (g.edges\n",
    "                   .filter(\"src = 'ORD' and deptDelay > 0\")\n",
    "                   .groupBy(\"dst\")\n",
    "                   .agg(F.avg(\"deptDelay\"), F.count(\"deptDelay\"))\n",
    "                   .withColumn(\"averageDelay\",\n",
    "                               F.round(F.col(\"avg(deptDelay)\"), 2))\n",
    "                   .withColumn(\"numberOfDelays\",\n",
    "                               F.col(\"count(deptDelay)\")))\n",
    "(delayed_flights\n",
    " .join(g.vertices, delayed_flights.dst == g.vertices.id)\n",
    " .sort(F.desc(\"averageDelay\"))\n",
    " .select(\"dst\", \"name\", \"averageDelay\", \"numberOfDelays\")\n",
    " .show(n=10, truncate=False))"
   ],
   "metadata": {
    "collapsed": false,
    "pycharm": {
     "name": "#%%\n"
    }
   }
  },
  {
   "cell_type": "code",
   "execution_count": null,
   "outputs": [],
   "source": [
    "# find the flights between those airports\n",
    "from_expr = 'id = \"ORD\"'\n",
    "to_expr = 'id = \"CKB\"'\n",
    "ord_to_ckb = g.bfs(from_expr, to_expr)\n",
    "ord_to_ckb = ord_to_ckb.select(\n",
    "    F.col(\"e0.date\"),\n",
    "    F.col(\"e0.time\"),\n",
    "    F.col(\"e0.flightNumber\"),\n",
    "    F.col(\"e0.deptDelay\"))"
   ],
   "metadata": {
    "collapsed": false,
    "pycharm": {
     "name": "#%%\n"
    }
   }
  },
  {
   "cell_type": "code",
   "execution_count": null,
   "outputs": [],
   "source": [
    "# plotting\n",
    "ax = (ord_to_ckb\n",
    "      .sort(\"date\")\n",
    "      .toPandas()\n",
    "      .plot(kind='bar', x='date', y='deptDelay', legend=None))\n",
    "ax.xaxis.set_label_text(\"\")\n",
    "plt.tight_l"
   ],
   "metadata": {
    "collapsed": false,
    "pycharm": {
     "name": "#%%\n"
    }
   }
  },
  {
   "cell_type": "markdown",
   "source": [
    "# Bad Day at SFO\n",
    "Delays at an airport is known for fog-related “low ceiling” issues: San\n",
    "Francisco International Airport"
   ],
   "metadata": {
    "collapsed": false,
    "pycharm": {
     "name": "#%% md\n"
    }
   }
  },
  {
   "cell_type": "code",
   "execution_count": null,
   "outputs": [],
   "source": [
    "# motifs to find the most-delayed flights going into and out of SFO on May 11, 2018.\n",
    "# The motif (a)-[ab]->(b); (b)-[bc]->(c) finds flights coming into and out from the same airport.\n",
    "motifs = (g.find(\"(a)-[ab]->(b); (b)-[bc]->(c)\")\n",
    "          .filter(\"\"\"(b.id = 'SFO') and\n",
    "(ab.date = '2018-05-11' and bc.date = '2018-05-11') and\n",
    "(ab.arrDelay > 30 or bc.deptDelay > 30) and\n",
    "(ab.flightNumber = bc.flightNumber) and\n",
    "(ab.airline = bc.airline) and\n",
    "(ab.time < bc.time)\"\"\"))"
   ],
   "metadata": {
    "collapsed": false,
    "pycharm": {
     "name": "#%%\n"
    }
   }
  },
  {
   "cell_type": "code",
   "execution_count": null,
   "outputs": [],
   "source": [
    "result = (motifs.withColumn(\"delta\", motifs.bc.deptDelay - motifs.ab.arrDelay)\n",
    "          .select(\"ab\", \"bc\", \"delta\")\n",
    "          .sort(\"delta\", ascending=False))"
   ],
   "metadata": {
    "collapsed": false,
    "pycharm": {
     "name": "#%%\n"
    }
   }
  },
  {
   "cell_type": "code",
   "execution_count": null,
   "outputs": [],
   "source": [
    "result.select(\n",
    "    F.col(\"ab.src\").alias(\"a1\"),\n",
    "    F.col(\"ab.time\").alias(\"a1DeptTime\"),\n",
    "    F.col(\"ab.arrDelay\"),\n",
    "    F.col(\"ab.dst\").alias(\"a2\"),\n",
    "    F.col(\"bc.time\").alias(\"a2DeptTime\"),\n",
    "    F.col(\"bc.deptDelay\"),\n",
    "    F.col(\"bc.dst\").alias(\"a3\"),\n",
    "    F.col(\"ab.airline\"),\n",
    "    F.col(\"ab.flightNumber\"),\n",
    "    F.col(\"delta\")\n",
    ").show()"
   ],
   "metadata": {
    "collapsed": false,
    "pycharm": {
     "name": "#%%\n"
    }
   }
  },
  {
   "cell_type": "markdown",
   "source": [
    "# Interconnected Airports by Airline"
   ],
   "metadata": {
    "collapsed": false,
    "pycharm": {
     "name": "#%% md\n"
    }
   }
  },
  {
   "cell_type": "code",
   "execution_count": null,
   "outputs": [],
   "source": [
    "# identify all the airlines and work out how many flights there are on each of them:\n",
    "airlines = (g.edges\n",
    "            .groupBy(\"airline\")\n",
    "            .agg(F.count(\"airline\").alias(\"flights\"))\n",
    "            .sort(\"flights\", ascending=False))"
   ],
   "metadata": {
    "collapsed": false,
    "pycharm": {
     "name": "#%%\n"
    }
   }
  },
  {
   "cell_type": "code",
   "execution_count": null,
   "outputs": [],
   "source": [
    "full_name_airlines = (airlines_reference\n",
    "                      .join(airlines, airlines.airline\n",
    "                            == airlines_reference.code)\n",
    "                      .select(\"code\", \"name\", \"flights\"))"
   ],
   "metadata": {
    "collapsed": false,
    "pycharm": {
     "name": "#%%\n"
    }
   }
  },
  {
   "cell_type": "code",
   "execution_count": null,
   "outputs": [],
   "source": [
    "# Bar chart\n",
    "ax = (full_name_airlines.toPandas()\n",
    "      .plot(kind='bar', x='name', y='flights', legend=None))\n",
    "ax.xaxis.set_label_text(\"\")\n",
    "plt.tight_layout()\n",
    "plt.show()"
   ],
   "metadata": {
    "collapsed": false,
    "pycharm": {
     "name": "#%%\n"
    }
   }
  },
  {
   "cell_type": "markdown",
   "source": [
    "# Strongly Connected Components\n",
    "find airport groupings for each airline where all the airports have flights to and from\n",
    "all the other airports in that group"
   ],
   "metadata": {
    "collapsed": false,
    "pycharm": {
     "name": "#%% md\n"
    }
   }
  },
  {
   "cell_type": "code",
   "execution_count": null,
   "outputs": [],
   "source": [
    "def find_scc_components(g, airline):\n",
    "    # Create a subgraph containing only flights on the provided airline\n",
    "    airline_relationships = g.edges[g.edges.airline == airline]\n",
    "    airline_graph = GraphFrame(g.vertices, airline_relationships)\n",
    "    # Calculate the Strongly Connected Components\n",
    "    scc = airline_graph.stronglyConnectedComponents(maxIter=10)\n",
    "    # Find the size of the biggest component and return that\n",
    "    return (scc\n",
    "        .groupBy(\"component\")\n",
    "        .agg(F.count(\"id\").alias(\"size\"))\n",
    "        .sort(\"size\", ascending=False)\n",
    "        .take(1)[0][\"size\"])"
   ],
   "metadata": {
    "collapsed": false,
    "pycharm": {
     "name": "#%%\n"
    }
   }
  },
  {
   "cell_type": "code",
   "execution_count": null,
   "outputs": [],
   "source": [
    "# Calculate the largest strongly connected component for each airline\n",
    "airline_scc = [(airline, find_scc_components(g, airline))\n",
    "               for airline in airlines.toPandas()[\"airline\"].tolist()]\n",
    "airline_scc_df = spark.createDataFrame(airline_scc, ['id', 'sccCount'])\n",
    "# Join the SCC DataFrame with the airlines DataFrame so that we can show\n",
    "# the number of flights an airline has alongside the number of\n",
    "# airports reachable in its biggest component\n",
    "airline_reach = (airline_scc_df\n",
    "                 .join(full_name_airlines, full_name_airlines.code == airline_scc_df.id)\n",
    "                 .select(\"code\", \"name\", \"flights\", \"sccCount\")\n",
    "                 .sort(\"sccCount\", ascending=False))"
   ],
   "metadata": {
    "collapsed": false,
    "pycharm": {
     "name": "#%%\n"
    }
   }
  },
  {
   "cell_type": "code",
   "execution_count": null,
   "outputs": [],
   "source": [
    "ax = (airline_reach.toPandas()\n",
    "      .plot(kind='bar', x='name', y='sccCount', legend=None))\n",
    "ax.xaxis.set_label_text(\"\")\n",
    "plt.tight_layout()\n",
    "plt.show()"
   ],
   "metadata": {
    "collapsed": false,
    "pycharm": {
     "name": "#%%\n"
    }
   }
  },
  {
   "cell_type": "markdown",
   "source": [
    "Connected Components with Apache Spark"
   ],
   "metadata": {
    "collapsed": false,
    "pycharm": {
     "name": "#%% md\n"
    }
   }
  },
  {
   "cell_type": "code",
   "execution_count": null,
   "outputs": [],
   "source": [
    "# Now let’s say most of the frequent flyer points we have are with Delta Airlines (DL).\n",
    "# Can we find airports that form communities within the network for that particular     airline carrier?\n",
    "airline_relationships = g.edges.filter(\"airline = 'DL'\")\n",
    "airline_graph = GraphFrame(g.vertices, airline_relationships)"
   ],
   "metadata": {
    "collapsed": false,
    "pycharm": {
     "name": "#%%\n"
    }
   }
  },
  {
   "cell_type": "code",
   "execution_count": null,
   "outputs": [],
   "source": [
    "clusters = airline_graph.labelPropagation(maxIter=10)\n",
    "(clusters\n",
    " .sort(\"label\")\n",
    " .groupby(\"label\")\n",
    " .agg(F.collect_list(\"id\").alias(\"airports\"),\n",
    "      F.count(\"id\").alias(\"count\"))\n",
    " .sort(\"count\", ascending=False)\n",
    " .show(truncate=70, n=10))"
   ],
   "metadata": {
    "collapsed": false,
    "pycharm": {
     "name": "#%%\n"
    }
   }
  },
  {
   "cell_type": "code",
   "execution_count": null,
   "outputs": [],
   "source": [
    "# calculate airport degree\n",
    "all_flights = g.degrees.withColumnRenamed(\"id\", \"aId\")"
   ],
   "metadata": {
    "collapsed": false,
    "pycharm": {
     "name": "#%%\n"
    }
   }
  },
  {
   "cell_type": "code",
   "execution_count": null,
   "outputs": [],
   "source": [
    "(clusters\n",
    " .filter(\"label=1606317768706\")\n",
    " .join(all_flights, all_flights.aId == clusters.id)\n",
    " .sort(\"degree\", ascending=False)\n",
    " .select(\"id\", \"name\", \"degree\")\n",
    " .show(truncate=False))"
   ],
   "metadata": {
    "collapsed": false,
    "pycharm": {
     "name": "#%%\n"
    }
   }
  },
  {
   "cell_type": "markdown",
   "source": [
    "# Appendix: Timing and Profling\n",
    "%time: Time the execution of a single statement\n",
    "\n",
    "%timeit: Time repeated execution of a single statement for more accuracy\n",
    "\n",
    "%prun: Run code with the profiler\n",
    "\n",
    "%lprun: Run code with the line-by-line profiler\n",
    "\n",
    "%memit: Measure the memory use of a single statement\n",
    "\n",
    "%mprun: Run code with the line-by-line memory profile"
   ],
   "metadata": {
    "collapsed": false
   }
  }
 ]
}